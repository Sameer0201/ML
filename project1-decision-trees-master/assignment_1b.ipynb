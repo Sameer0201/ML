{
 "cells": [
  {
   "cell_type": "markdown",
   "metadata": {},
   "source": [
    "# Part 1b: Predicting survival of Titanic passengers with decision trees\n",
    "**DUE September 17th 2018**\n",
    "\n",
    "## Introduction\n",
    "\n",
    "The code for this project consists of several Python files, some of\n",
    "which you will need to read and understand in order to complete the\n",
    "assignment, and some of which you can ignore.\n",
    "\n",
    "### Files You'll Edit\n",
    "\n",
    "``assignment_1b.ipynb``: Will be your edited copy of this notebook pertaining to part 1a of the assignment\n",
    "\n",
    "``features.py``: Simple feature engineering function\n",
    "\n",
    "\n",
    "\n",
    "### Files you might want to look at\n",
    "  \n",
    "``binary.py``: Our generic interface for binary classifiers (actually\n",
    "works for regression and other types of classification, too).\n",
    "\n",
    "``datasets.py``: Where a handful of test data sets are stored.\n",
    "\n",
    "``util.py``: A handful of useful utility functions: these will\n",
    "undoubtedly be helpful to you, so take a look!\n",
    "\n",
    "``runClassifier.py``: A few wrappers for doing useful things with\n",
    "classifiers, like training them, generating learning curves, etc.\n",
    "\n",
    "``mlGraphics.py``: A few useful plotting commands\n",
    "\n",
    "``data/*``: all of the datasets we'll use.\n",
    "\n",
    "### What to Submit\n",
    "\n",
    "You will hand in all of the python files listed above under \"Files\n",
    "you'll edit\". You will also have to answer the written questions in this\n",
    "notebook denoted **Q#:** in the corresponding cells denoted with **A#:**.\n",
    "\n",
    "#### Autograding\n",
    "\n",
    "Your code will be autograded for technical correctness. Please **do\n",
    "not** change the names of any provided functions or classes within the\n",
    "code, or you will wreak havoc on the autograder. However, the\n",
    "correctness of your implementation -- not the autograder's output --\n",
    "will be the final judge of your score.  If necessary, we will review\n",
    "and grade assignments individually to ensure that you receive due\n",
    "credit for your work."
   ]
  },
  {
   "cell_type": "markdown",
   "metadata": {},
   "source": [
    "## A quick look at the data"
   ]
  },
  {
   "cell_type": "markdown",
   "metadata": {},
   "source": [
    "In `data/` you will find the following files:\n",
    "    `titanic_train.csv`\n",
    "        \n",
    "    `titanic_test.csv`\n",
    "    \n",
    "Let's take a look at the CSV file using the [Pandas] package and import other packages we think we will need."
   ]
  },
  {
   "cell_type": "code",
   "execution_count": 1,
   "metadata": {},
   "outputs": [],
   "source": [
    "import pandas as pd\n",
    "import dt\n",
    "import features\n",
    "import runClassifier\n",
    "import pandas as pd\n",
    "import numpy as np\n",
    "from sklearn.model_selection import train_test_split"
   ]
  },
  {
   "cell_type": "markdown",
   "metadata": {},
   "source": [
    "Pandas lets us take read CSVs easily and allows us to manipulate the data with ease. So lets take a look at the data!"
   ]
  },
  {
   "cell_type": "code",
   "execution_count": 2,
   "metadata": {},
   "outputs": [
    {
     "data": {
      "text/html": [
       "<div>\n",
       "<style scoped>\n",
       "    .dataframe tbody tr th:only-of-type {\n",
       "        vertical-align: middle;\n",
       "    }\n",
       "\n",
       "    .dataframe tbody tr th {\n",
       "        vertical-align: top;\n",
       "    }\n",
       "\n",
       "    .dataframe thead th {\n",
       "        text-align: right;\n",
       "    }\n",
       "</style>\n",
       "<table border=\"1\" class=\"dataframe\">\n",
       "  <thead>\n",
       "    <tr style=\"text-align: right;\">\n",
       "      <th></th>\n",
       "      <th>PassengerId</th>\n",
       "      <th>Survived</th>\n",
       "      <th>HighClassTicket</th>\n",
       "      <th>IsOld</th>\n",
       "      <th>hasLargeFamily</th>\n",
       "      <th>isSingle</th>\n",
       "      <th>hadNiceCabin</th>\n",
       "      <th>isAristocrat</th>\n",
       "      <th>Fare</th>\n",
       "      <th>Sex</th>\n",
       "    </tr>\n",
       "  </thead>\n",
       "  <tbody>\n",
       "    <tr>\n",
       "      <th>0</th>\n",
       "      <td>128</td>\n",
       "      <td>1</td>\n",
       "      <td>0</td>\n",
       "      <td>0</td>\n",
       "      <td>0</td>\n",
       "      <td>1</td>\n",
       "      <td>0</td>\n",
       "      <td>0</td>\n",
       "      <td>7.1417</td>\n",
       "      <td>male</td>\n",
       "    </tr>\n",
       "    <tr>\n",
       "      <th>1</th>\n",
       "      <td>1037</td>\n",
       "      <td>0</td>\n",
       "      <td>0</td>\n",
       "      <td>0</td>\n",
       "      <td>0</td>\n",
       "      <td>0</td>\n",
       "      <td>0</td>\n",
       "      <td>0</td>\n",
       "      <td>18.0000</td>\n",
       "      <td>male</td>\n",
       "    </tr>\n",
       "    <tr>\n",
       "      <th>2</th>\n",
       "      <td>633</td>\n",
       "      <td>1</td>\n",
       "      <td>1</td>\n",
       "      <td>0</td>\n",
       "      <td>0</td>\n",
       "      <td>1</td>\n",
       "      <td>1</td>\n",
       "      <td>0</td>\n",
       "      <td>30.5000</td>\n",
       "      <td>male</td>\n",
       "    </tr>\n",
       "    <tr>\n",
       "      <th>3</th>\n",
       "      <td>1051</td>\n",
       "      <td>1</td>\n",
       "      <td>0</td>\n",
       "      <td>0</td>\n",
       "      <td>0</td>\n",
       "      <td>0</td>\n",
       "      <td>0</td>\n",
       "      <td>0</td>\n",
       "      <td>13.7750</td>\n",
       "      <td>female</td>\n",
       "    </tr>\n",
       "    <tr>\n",
       "      <th>4</th>\n",
       "      <td>727</td>\n",
       "      <td>1</td>\n",
       "      <td>1</td>\n",
       "      <td>0</td>\n",
       "      <td>0</td>\n",
       "      <td>0</td>\n",
       "      <td>0</td>\n",
       "      <td>0</td>\n",
       "      <td>21.0000</td>\n",
       "      <td>female</td>\n",
       "    </tr>\n",
       "  </tbody>\n",
       "</table>\n",
       "</div>"
      ],
      "text/plain": [
       "   PassengerId  Survived  HighClassTicket  IsOld  hasLargeFamily  isSingle  \\\n",
       "0          128         1                0      0               0         1   \n",
       "1         1037         0                0      0               0         0   \n",
       "2          633         1                1      0               0         1   \n",
       "3         1051         1                0      0               0         0   \n",
       "4          727         1                1      0               0         0   \n",
       "\n",
       "   hadNiceCabin  isAristocrat     Fare     Sex  \n",
       "0             0             0   7.1417    male  \n",
       "1             0             0  18.0000    male  \n",
       "2             1             0  30.5000    male  \n",
       "3             0             0  13.7750  female  \n",
       "4             0             0  21.0000  female  "
      ]
     },
     "execution_count": 2,
     "metadata": {},
     "output_type": "execute_result"
    }
   ],
   "source": [
    "train_df = pd.read_csv('data/titanic_train.csv')\n",
    "train_df.head()"
   ]
  },
  {
   "cell_type": "markdown",
   "metadata": {},
   "source": [
    "Each passenger is identified with a unique PassengerId and is labeled with whether or not she survived the Titanic accident. We can also see that we have some simple information about each of them. In each column, 1 signifies True and 0 False. Since the decision tree we have implemented is quite simple and knows to split on only binary features (either 1 or 0), we have preprocessed the data and have already binaraized some features for you. They are as follows:\n",
    "- `HighClassTicket`: Signifies whether or not the passenger bought a ticket with some extra perks\n",
    "- `IsOld`: Signifies whether or not the passenger is older than 22\n",
    "- `hasLargeFamily`: Signifies whether the passenger had more than 4 other family members on board\n",
    "- `isSingle`: Signifies whether the passenger had no other family members on board\n",
    "- `hadNiceCabin`: Signifies whether the passenger purchased an upgraded cabin\n",
    "- `isAristocrat`: Signifies whether the passenger had an aristocratic title in his/her name (E.g. Sir, Lord, Dutchess etc.)\n",
    "\n",
    "However, you have to do some **feature engineering** and 'binarize' the remainding columns."
   ]
  },
  {
   "cell_type": "markdown",
   "metadata": {},
   "source": [
    "Unfortunately, the simple decision tree that we implemented does not know how to find partitions in features that are strings or features that are continuous. We will have to do some **feature engineering** to solve this. Binarizing the `Sex` feature is simple. However you will have to figure out a reasonable threshold for binarizing the `Fare` feature.\n",
    "\n",
    "Do some data analysis below to find a reasonbable. **Plot a chart**  and **explain** why you chose the threshold you chose.\n",
    "(Hint: Use histograms, analyze the survival rates and make a reasobable guess. Or find the threshold that minimizes impurity!)\n",
    "\n",
    "\n",
    "Also, **complete** the `binarize_features` function in `binarize.py`, this function should return a Pandas dataframe with the same number of columns, and binarize the `Fare` and `Sex` columns to `int`s."
   ]
  },
  {
   "cell_type": "code",
   "execution_count": 3,
   "metadata": {},
   "outputs": [
    {
     "name": "stdout",
     "output_type": "stream",
     "text": [
      "Mean: 33.75423810888252\n",
      "Median: 14.4542\n",
      "Max: 512.3292\n",
      "Stdev: 51.996485547945035\n"
     ]
    }
   ],
   "source": [
    "import statistics \n",
    "print(\"Mean: \" + str(train_df['Fare'].mean()))\n",
    "print(\"Median: \" + str(train_df['Fare'].median()))\n",
    "print(\"Max: \" + str(train_df['Fare'].max()))\n",
    "print(\"Stdev: \" + str(statistics.stdev(train_df['Fare'])))"
   ]
  },
  {
   "cell_type": "code",
   "execution_count": 4,
   "metadata": {},
   "outputs": [
    {
     "data": {
      "text/plain": [
       "array([[<matplotlib.axes._subplots.AxesSubplot object at 0x10d2e7b00>]],\n",
       "      dtype=object)"
      ]
     },
     "execution_count": 4,
     "metadata": {},
     "output_type": "execute_result"
    },
    {
     "data": {
      "image/png": "[encoded data removed]",
      "text/plain": [
       "<Figure size 432x288 with 1 Axes>"
      ]
     },
     "metadata": {},
     "output_type": "display_data"
    }
   ],
   "source": [
    "train_df.hist(column = 'Fare', bins = 5)"
   ]
  },
  {
   "cell_type": "markdown",
   "metadata": {},
   "source": [
    "**Q1:** Why did you threshhold/binarize the `Fare` featuer at that value?"
   ]
  },
  {
   "cell_type": "markdown",
   "metadata": {},
   "source": [
    "**A1:** The theshold fare is set to at 25 which is a roughly good approximation to the middle point in our dataset. As most ~90% of the fare is under 100 from the graph and the Mean is 33, 25 is roughly in the middle to clasify as cheap (0) and expensive (1)"
   ]
  },
  {
   "cell_type": "code",
   "execution_count": 5,
   "metadata": {},
   "outputs": [
    {
     "data": {
      "text/html": [
       "<div>\n",
       "<style scoped>\n",
       "    .dataframe tbody tr th:only-of-type {\n",
       "        vertical-align: middle;\n",
       "    }\n",
       "\n",
       "    .dataframe tbody tr th {\n",
       "        vertical-align: top;\n",
       "    }\n",
       "\n",
       "    .dataframe thead th {\n",
       "        text-align: right;\n",
       "    }\n",
       "</style>\n",
       "<table border=\"1\" class=\"dataframe\">\n",
       "  <thead>\n",
       "    <tr style=\"text-align: right;\">\n",
       "      <th></th>\n",
       "      <th>PassengerId</th>\n",
       "      <th>Survived</th>\n",
       "      <th>HighClassTicket</th>\n",
       "      <th>IsOld</th>\n",
       "      <th>hasLargeFamily</th>\n",
       "      <th>isSingle</th>\n",
       "      <th>hadNiceCabin</th>\n",
       "      <th>isAristocrat</th>\n",
       "      <th>Fare</th>\n",
       "      <th>Sex</th>\n",
       "    </tr>\n",
       "  </thead>\n",
       "  <tbody>\n",
       "    <tr>\n",
       "      <th>0</th>\n",
       "      <td>128</td>\n",
       "      <td>1</td>\n",
       "      <td>0</td>\n",
       "      <td>0</td>\n",
       "      <td>0</td>\n",
       "      <td>1</td>\n",
       "      <td>0</td>\n",
       "      <td>0</td>\n",
       "      <td>0</td>\n",
       "      <td>0</td>\n",
       "    </tr>\n",
       "    <tr>\n",
       "      <th>1</th>\n",
       "      <td>1037</td>\n",
       "      <td>0</td>\n",
       "      <td>0</td>\n",
       "      <td>0</td>\n",
       "      <td>0</td>\n",
       "      <td>0</td>\n",
       "      <td>0</td>\n",
       "      <td>0</td>\n",
       "      <td>0</td>\n",
       "      <td>0</td>\n",
       "    </tr>\n",
       "    <tr>\n",
       "      <th>2</th>\n",
       "      <td>633</td>\n",
       "      <td>1</td>\n",
       "      <td>1</td>\n",
       "      <td>0</td>\n",
       "      <td>0</td>\n",
       "      <td>1</td>\n",
       "      <td>1</td>\n",
       "      <td>0</td>\n",
       "      <td>1</td>\n",
       "      <td>0</td>\n",
       "    </tr>\n",
       "    <tr>\n",
       "      <th>3</th>\n",
       "      <td>1051</td>\n",
       "      <td>1</td>\n",
       "      <td>0</td>\n",
       "      <td>0</td>\n",
       "      <td>0</td>\n",
       "      <td>0</td>\n",
       "      <td>0</td>\n",
       "      <td>0</td>\n",
       "      <td>0</td>\n",
       "      <td>1</td>\n",
       "    </tr>\n",
       "    <tr>\n",
       "      <th>4</th>\n",
       "      <td>727</td>\n",
       "      <td>1</td>\n",
       "      <td>1</td>\n",
       "      <td>0</td>\n",
       "      <td>0</td>\n",
       "      <td>0</td>\n",
       "      <td>0</td>\n",
       "      <td>0</td>\n",
       "      <td>0</td>\n",
       "      <td>1</td>\n",
       "    </tr>\n",
       "  </tbody>\n",
       "</table>\n",
       "</div>"
      ],
      "text/plain": [
       "   PassengerId  Survived  HighClassTicket  IsOld  hasLargeFamily  isSingle  \\\n",
       "0          128         1                0      0               0         1   \n",
       "1         1037         0                0      0               0         0   \n",
       "2          633         1                1      0               0         1   \n",
       "3         1051         1                0      0               0         0   \n",
       "4          727         1                1      0               0         0   \n",
       "\n",
       "   hadNiceCabin  isAristocrat  Fare  Sex  \n",
       "0             0             0     0    0  \n",
       "1             0             0     0    0  \n",
       "2             1             0     1    0  \n",
       "3             0             0     0    1  \n",
       "4             0             0     0    1  "
      ]
     },
     "execution_count": 5,
     "metadata": {},
     "output_type": "execute_result"
    }
   ],
   "source": [
    "train_df = features.binarize_features(train_df, 25)\n",
    "train_df.head()"
   ]
  },
  {
   "cell_type": "markdown",
   "metadata": {},
   "source": [
    "Although there is a test csv, we won't always have access to labels in our test data. Instead, we hold out a portion (20%) of our training data to help us measure how generalizable the trained model is."
   ]
  },
  {
   "cell_type": "code",
   "execution_count": 6,
   "metadata": {},
   "outputs": [],
   "source": [
    "X, y = train_df.iloc[:,2:].values, train_df.iloc[:,1].values\n",
    "X_train, X_holdout, y_train, y_holdout = train_test_split(X, y, test_size=0.2, random_state=422)"
   ]
  },
  {
   "cell_type": "markdown",
   "metadata": {},
   "source": [
    "Using `hyperparameterCurve` in `runClassifier.py`, **plot** a corresponding chart of tree depth vs accuracy and **choose** the best tree depth."
   ]
  },
  {
   "cell_type": "code",
   "execution_count": 7,
   "metadata": {},
   "outputs": [
    {
     "name": "stdout",
     "output_type": "stream",
     "text": [
      "Training classifier with maxDepth=1...\n",
      "Training accuracy 0.847073, test accuracy 0.852381\n",
      "Training classifier with maxDepth=2...\n",
      "Training accuracy 0.847073, test accuracy 0.852381\n",
      "Training classifier with maxDepth=3...\n",
      "Training accuracy 0.847073, test accuracy 0.852381\n",
      "Training classifier with maxDepth=4...\n",
      "Training accuracy 0.848268, test accuracy 0.852381\n",
      "Training classifier with maxDepth=5...\n",
      "Training accuracy 0.848268, test accuracy 0.852381\n",
      "Training classifier with maxDepth=6...\n",
      "Training accuracy 0.847073, test accuracy 0.852381\n",
      "Training classifier with maxDepth=7...\n",
      "Training accuracy 0.847073, test accuracy 0.852381\n",
      "Training classifier with maxDepth=8...\n",
      "Training accuracy 0.847073, test accuracy 0.852381\n",
      "Training classifier with maxDepth=12...\n",
      "Training accuracy 0.847073, test accuracy 0.852381\n",
      "Training classifier with maxDepth=16...\n",
      "Training accuracy 0.847073, test accuracy 0.852381\n",
      "Training classifier with maxDepth=20...\n",
      "Training accuracy 0.847073, test accuracy 0.852381\n",
      "Training classifier with maxDepth=24...\n",
      "Training accuracy 0.847073, test accuracy 0.852381\n"
     ]
    },
    {
     "data": {
      "image/png": "[encoded data removed]",
      "text/plain": [
       "<Figure size 432x288 with 1 Axes>"
      ]
     },
     "metadata": {},
     "output_type": "display_data"
    }
   ],
   "source": [
    "curve = runClassifier.hyperparamCurve(dt.DT({}), 'maxDepth', [1,2,3,4,5,6,7,8,12,16,20,24], X_train, y_train, X_holdout, y_holdout)\n",
    "runClassifier.plotCurve('DT on Sentiment Data (hyperparameter)', curve)"
   ]
  },
  {
   "cell_type": "markdown",
   "metadata": {},
   "source": [
    "**Q2:** According to your analysis, what is the best tree depth? Why?"
   ]
  },
  {
   "cell_type": "markdown",
   "metadata": {},
   "source": [
    "**A2:** The best accuracy is around 4~5 which gives the highest train accuracy but it is mostly the same. "
   ]
  },
  {
   "cell_type": "markdown",
   "metadata": {
    "scrolled": true
   },
   "source": [
    "Now let's retrain on all the data..."
   ]
  },
  {
   "cell_type": "code",
   "execution_count": 8,
   "metadata": {},
   "outputs": [],
   "source": [
    "dt = dt.DT({'maxDepth': 5})\n",
    "dt.train(X, y)"
   ]
  },
  {
   "cell_type": "markdown",
   "metadata": {
    "scrolled": true
   },
   "source": [
    "**Q3:** Why would we want to retrain a decision tree on all the data (`X` and `y`) and not just `X_train` and `y_train`?"
   ]
  },
  {
   "cell_type": "markdown",
   "metadata": {},
   "source": [
    "**A3:** From the above experiments we know the best depth to run our simulation, now we must train it with more samples. The data is also scattered, like how the fare price was consentrated in the first 100 but was still scattered for later values. Also the data size increases by 1.25 times which is better for training. "
   ]
  },
  {
   "cell_type": "markdown",
   "metadata": {},
   "source": [
    "We can now test our decision tree the test data!"
   ]
  },
  {
   "cell_type": "code",
   "execution_count": 9,
   "metadata": {},
   "outputs": [],
   "source": [
    "test_df = pd.read_csv('data/titanic_test.csv')\n",
    "test_df = features.binarize_features(test_df, 25 )\n",
    "X_test, y_test = test_df.iloc[:,2:].values, test_df.iloc[:,1].values"
   ]
  },
  {
   "cell_type": "code",
   "execution_count": 10,
   "metadata": {},
   "outputs": [
    {
     "name": "stdout",
     "output_type": "stream",
     "text": [
      "Test accuracy: 0.8854961832061069\n"
     ]
    }
   ],
   "source": [
    "y_predicted = dt.predictAll(X_test)\n",
    "acc = np.mean(y_test == y_predicted)\n",
    "print(\"Test accuracy:\", acc)"
   ]
  }
 ],
 "metadata": {
  "kernelspec": {
   "display_name": "Python 3",
   "language": "python",
   "name": "python3"
  },
  "language_info": {
   "codemirror_mode": {
    "name": "ipython",
    "version": 3
   },
   "file_extension": ".py",
   "mimetype": "text/x-python",
   "name": "python",
   "nbconvert_exporter": "python",
   "pygments_lexer": "ipython3",
   "version": "3.6.4"
  }
 },
 "nbformat": 4,
 "nbformat_minor": 2
}
