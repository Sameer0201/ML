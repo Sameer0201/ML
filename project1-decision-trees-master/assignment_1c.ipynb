{
 "cells": [
  {
   "cell_type": "markdown",
   "metadata": {},
   "source": [
    "# Part 1c: Information Gain for Decision Trees\n",
    "**DUE September 17th 2018**\n",
    "\n",
    "## Introduction\n",
    "\n",
    "The code for this project consists of several Python files, some of\n",
    "which you will need to read and understand in order to complete the\n",
    "assignment, and some of which you can ignore.\n",
    "\n",
    "### Files You'll Edit\n",
    "\n",
    "``assignment_1c.ipynb``: Will be your edited copy of this notebook pertaining to part 1c of the assignment.\n",
    "\n",
    "### Files you might want to look at\n",
    "  \n",
    "``binary.py``: Our generic interface for binary classifiers (actually\n",
    "works for regression and other types of classification, too).\n",
    "\n",
    "``datasets.py``: Where a handful of test data sets are stored.\n",
    "\n",
    "``util.py``: A handful of useful utility functions: these will\n",
    "undoubtedly be helpful to you, so take a look!\n",
    "\n",
    "``runClassifier.py``: A few wrappers for doing useful things with\n",
    "classifiers, like training them, generating learning curves, etc.\n",
    "\n",
    "``mlGraphics.py``: A few useful plotting commands\n",
    "\n",
    "``data/*``: all of the datasets we'll use.\n",
    "\n",
    "### What to Submit\n",
    "\n",
    "You will hand in all of the python files listed above under \"Files\n",
    "you'll edit\". You will also have to answer the written questions in this\n",
    "notebook denoted **Q#:** in the corresponding cells denoted with **A#:**.\n",
    "\n",
    "#### Autograding\n",
    "\n",
    "Your code will be autograded for technical correctness. Please **do\n",
    "not** change the names of any provided functions or classes within the\n",
    "code, or you will wreak havoc on the autograder. However, the\n",
    "correctness of your implementation -- not the autograder's output --\n",
    "will be the final judge of your score.  If necessary, we will review\n",
    "and grade assignments individually to ensure that you receive due\n",
    "credit for your work."
   ]
  },
  {
   "cell_type": "code",
   "execution_count": 1,
   "metadata": {},
   "outputs": [],
   "source": [
    "# Jupyter magic!\n",
    "%matplotlib inline"
   ]
  },
  {
   "cell_type": "markdown",
   "metadata": {},
   "source": [
    "Your first task is to write code to support the use of the information gain splitting criterion for decision tree learning. **You should now complete all lines marked ``TODO`` in ``dt.py``, so that our code handles both splitting criteria (misclassification rate and information gain).** Once you've done that, we can test our code for the new splitting criterion:"
   ]
  },
  {
   "cell_type": "code",
   "execution_count": 2,
   "metadata": {},
   "outputs": [],
   "source": [
    "import dumbClassifiers, datasets\n",
    "import numpy as np\n",
    "import runClassifier\n",
    "import dt as dt"
   ]
  },
  {
   "cell_type": "code",
   "execution_count": 3,
   "metadata": {},
   "outputs": [
    {
     "data": {
      "text/plain": [
       "Leaf 1"
      ]
     },
     "execution_count": 3,
     "metadata": {},
     "output_type": "execute_result"
    }
   ],
   "source": [
    "h = dt.DT({'maxDepth': 1, 'criterion': 'ig'})\n",
    "h"
   ]
  },
  {
   "cell_type": "code",
   "execution_count": 4,
   "metadata": {},
   "outputs": [
    {
     "data": {
      "text/plain": [
       "Branch 4 [Gain='1.8792']\n",
       "  Leaf 1.0\n",
       "  Leaf 1.0"
      ]
     },
     "execution_count": 4,
     "metadata": {},
     "output_type": "execute_result"
    }
   ],
   "source": [
    "################################################################################\n",
    "# TODO: Implement dt.train(...)                                                #\n",
    "################################################################################\n",
    "h.train(datasets.TennisData.X, datasets.TennisData.Y)\n",
    "h"
   ]
  },
  {
   "cell_type": "code",
   "execution_count": 5,
   "metadata": {},
   "outputs": [
    {
     "data": {
      "text/plain": [
       "-0.9402859586706311"
      ]
     },
     "execution_count": 5,
     "metadata": {},
     "output_type": "execute_result"
    }
   ],
   "source": [
    "from numpy import *\n",
    "\n",
    "from binary import *\n",
    "c = 0.6428571428571429\n",
    "(c*(math.log(c,2))) + ((1-c)*math.log((1-c),2))"
   ]
  },
  {
   "cell_type": "markdown",
   "metadata": {},
   "source": [
    "This is for a simple depth-one decision tree (aka a decision stump). Notice how we print the information gain corresponding to each branch in the tree.\n",
    "\n",
    "If we let it get deeper, we get things like:"
   ]
  },
  {
   "cell_type": "code",
   "execution_count": 6,
   "metadata": {},
   "outputs": [
    {
     "data": {
      "text/plain": [
       "Branch 4 [Gain='1.8792']\n",
       "  Branch 2 [Gain='1.8932']\n",
       "    Leaf 1.0\n",
       "    Leaf 1.0\n",
       "  Branch 7 [Gain='1.8366']\n",
       "    Leaf 1.0\n",
       "    Leaf 1.0"
      ]
     },
     "execution_count": 6,
     "metadata": {},
     "output_type": "execute_result"
    }
   ],
   "source": [
    "h = dt.DT({'maxDepth': 2, 'criterion': 'ig'})\n",
    "h.train(datasets.TennisData.X, datasets.TennisData.Y)\n",
    "h"
   ]
  },
  {
   "cell_type": "code",
   "execution_count": 7,
   "metadata": {},
   "outputs": [
    {
     "data": {
      "text/plain": [
       "Branch 4 [Gain='1.8792']\n",
       "  Branch 2 [Gain='1.8932']\n",
       "    Branch 7 [Gain='1.7925']\n",
       "      Branch 5 [Gain='1.5000']\n",
       "        Branch 3 [Gain='1.8366']\n",
       "          Leaf 1.0\n",
       "          Leaf 1.0\n",
       "        Leaf 1.0\n",
       "      Branch 6 [Gain='1.0000']\n",
       "        Leaf 1.0\n",
       "        Leaf -1.0\n",
       "    Branch 1 [Gain='2.0000']\n",
       "      Branch 0 [Gain='2.0000']\n",
       "        Leaf 1.0\n",
       "        Leaf 1.0\n",
       "      Leaf 1.0\n",
       "  Leaf 1.0"
      ]
     },
     "execution_count": 7,
     "metadata": {},
     "output_type": "execute_result"
    }
   ],
   "source": [
    "h = dt.DT({'maxDepth': 5, 'criterion': 'ig'})\n",
    "h.train(datasets.TennisData.X, datasets.TennisData.Y)\n",
    "h"
   ]
  },
  {
   "cell_type": "markdown",
   "metadata": {},
   "source": [
    "We can do something similar on the sentiment data (this will take a bit longer---it takes about 10 seconds on my laptop):"
   ]
  },
  {
   "cell_type": "code",
   "execution_count": 8,
   "metadata": {},
   "outputs": [
    {
     "data": {
      "text/plain": [
       "Branch 983 [Gain='1.9999']\n",
       "  Branch 8151 [Gain='1.9999']\n",
       "    Leaf 1.0\n",
       "    Leaf 1.0\n",
       "  Branch 8160 [Gain='1.9999']\n",
       "    Leaf 1.0\n",
       "    Leaf 1.0"
      ]
     },
     "execution_count": 8,
     "metadata": {},
     "output_type": "execute_result"
    }
   ],
   "source": [
    "h = dt.DT({'maxDepth': 2, 'criterion': 'ig'})\n",
    "h.train(datasets.SentimentData.X, datasets.SentimentData.Y)\n",
    "h"
   ]
  },
  {
   "cell_type": "markdown",
   "metadata": {},
   "source": [
    "We can look up the words (your results here might be different due to hashing):"
   ]
  },
  {
   "cell_type": "code",
   "execution_count": 9,
   "metadata": {},
   "outputs": [
    {
     "name": "stdout",
     "output_type": "stream",
     "text": [
      "626 bad\n",
      "683 worst\n",
      "1627 stupid\n"
     ]
    }
   ],
   "source": [
    "print(626, datasets.SentimentData.words[626])\n",
    "print(683, datasets.SentimentData.words[683])\n",
    "print(1627, datasets.SentimentData.words[1627])"
   ]
  },
  {
   "cell_type": "markdown",
   "metadata": {},
   "source": [
    "Based on this, we can rewrite the tree (by hand) as:\n",
    "\n",
    "```python\n",
    "Branch 'bad'\n",
    "  Branch 'worst'\n",
    "    Leaf 1.0\n",
    "    Leaf -1.0\n",
    "  Branch 'stupid'\n",
    "    Leaf -1.0\n",
    "    Leaf -1.0\n",
    "```"
   ]
  },
  {
   "cell_type": "markdown",
   "metadata": {},
   "source": [
    "Now, we will test prediction (this takes about a minute for me):"
   ]
  },
  {
   "cell_type": "code",
   "execution_count": 10,
   "metadata": {},
   "outputs": [
    {
     "name": "stdout",
     "output_type": "stream",
     "text": [
      "Training accuracy 0.504167, test accuracy 0.5025\n",
      "Training accuracy 0.504167, test accuracy 0.5025\n",
      "Training accuracy 0.504167, test accuracy 0.5025\n"
     ]
    }
   ],
   "source": [
    "################################################################################\n",
    "# TODO: Implement dt.predict(...)                                              #\n",
    "################################################################################\n",
    "runClassifier.trainTestSet(dt.DT({'maxDepth': 1, 'criterion': 'ig'}), datasets.SentimentData)\n",
    "runClassifier.trainTestSet(dt.DT({'maxDepth': 3, 'criterion': 'ig'}), datasets.SentimentData)\n",
    "runClassifier.trainTestSet(dt.DT({'maxDepth': 5, 'criterion': 'ig'}), datasets.SentimentData)"
   ]
  },
  {
   "cell_type": "markdown",
   "metadata": {},
   "source": [
    "We can use more ``runClassifier`` functions to generate learning\n",
    "curves and hyperparameter curves:"
   ]
  },
  {
   "cell_type": "code",
   "execution_count": 11,
   "metadata": {},
   "outputs": [
    {
     "name": "stdout",
     "output_type": "stream",
     "text": [
      "Training classifier on 2 points...\n",
      "Training accuracy 0.5, test accuracy 0.5025\n",
      "Training classifier on 3 points...\n",
      "Training accuracy 0.666667, test accuracy 0.5025\n",
      "Training classifier on 5 points...\n",
      "Training accuracy 0.6, test accuracy 0.5025\n",
      "Training classifier on 10 points...\n",
      "Training accuracy 0.7, test accuracy 0.5025\n",
      "Training classifier on 19 points...\n",
      "Training accuracy 0.526316, test accuracy 0.4975\n",
      "Training classifier on 38 points...\n",
      "Training accuracy 0.5, test accuracy 0.5025\n",
      "Training classifier on 75 points...\n",
      "Training accuracy 0.506667, test accuracy 0.5025\n",
      "Training classifier on 150 points...\n",
      "Training accuracy 0.54, test accuracy 0.4925\n",
      "Training classifier on 300 points...\n",
      "Training accuracy 0.513333, test accuracy 0.4925\n",
      "Training classifier on 600 points...\n",
      "Training accuracy 0.501667, test accuracy 0.5025\n",
      "Training classifier on 1200 points...\n",
      "Training accuracy 0.504167, test accuracy 0.5025\n"
     ]
    },
    {
     "data": {
      "image/png": "[encoded data removed]",
      "text/plain": [
       "<Figure size 432x288 with 1 Axes>"
      ]
     },
     "metadata": {},
     "output_type": "display_data"
    }
   ],
   "source": [
    "curveIG = runClassifier.learningCurveSet(dt.DT({'maxDepth': 9, 'criterion': 'ig'}), datasets.SentimentData)\n",
    "runClassifier.plotCurve('DT on Sentiment Data', curveIG)"
   ]
  },
  {
   "cell_type": "markdown",
   "metadata": {},
   "source": [
    "This plots training and test accuracy as a function of the number of\n",
    "data points (x-axis) used for training and y-axis is accuracy."
   ]
  },
  {
   "cell_type": "markdown",
   "metadata": {},
   "source": [
    "Now let's compare information gain with misclassification rate. First we'll generate the learning curve for misclassification rate again. Then we'll plot the curves on the same graph."
   ]
  },
  {
   "cell_type": "code",
   "execution_count": 12,
   "metadata": {},
   "outputs": [
    {
     "name": "stdout",
     "output_type": "stream",
     "text": [
      "Training classifier on 2 points...\n",
      "Training accuracy 1, test accuracy 0.5\n",
      "Training classifier on 3 points...\n",
      "Training accuracy 1, test accuracy 0.5\n",
      "Training classifier on 5 points...\n",
      "Training accuracy 1, test accuracy 0.5\n",
      "Training classifier on 10 points...\n",
      "Training accuracy 1, test accuracy 0.595\n",
      "Training classifier on 19 points...\n",
      "Training accuracy 1, test accuracy 0.48\n",
      "Training classifier on 38 points...\n",
      "Training accuracy 1, test accuracy 0.62\n",
      "Training classifier on 75 points...\n",
      "Training accuracy 1, test accuracy 0.56\n",
      "Training classifier on 150 points...\n",
      "Training accuracy 0.953333, test accuracy 0.56\n",
      "Training classifier on 300 points...\n",
      "Training accuracy 0.926667, test accuracy 0.575\n",
      "Training classifier on 600 points...\n",
      "Training accuracy 0.881667, test accuracy 0.5975\n",
      "Training classifier on 1200 points...\n",
      "Training accuracy 0.833333, test accuracy 0.6475\n"
     ]
    },
    {
     "data": {
      "image/png": "[encoded data removed]",
      "text/plain": [
       "<Figure size 432x288 with 1 Axes>"
      ]
     },
     "metadata": {},
     "output_type": "display_data"
    }
   ],
   "source": [
    "curveMR = runClassifier.learningCurveSet(dt.DT({'maxDepth': 9, 'criterion': 'mr'}), datasets.SentimentData)\n",
    "runClassifier.plotCurvePair('DT on Sentiment Data', curveIG, 'IG', curveMR, 'MR')"
   ]
  },
  {
   "cell_type": "markdown",
   "metadata": {},
   "source": [
    "**Q1:** Briefly compare the two **training** curves. Does either splitting criterion perform better than the other for small dataset size (say, N<200)? Why or why not? How about as N increases to 1200? Use your understanding of both criteria to answer these questions."
   ]
  },
  {
   "cell_type": "markdown",
   "metadata": {},
   "source": [
    "**A1:** For training the results are unusual. It shows higher training accuracy than when N is incresed. Which is similar to part 1a where for less data the model is very well unfitted. This covers less cases and the training accuracy is around 1. "
   ]
  },
  {
   "cell_type": "markdown",
   "metadata": {},
   "source": [
    "**Q2:** Briefly compare the two **test** curves. Does either splitting criterion lead to better generalization than the other for small dataset size (say, N<200)? Why or why not? How about as N increases to 1200? Use your understanding of both criteria to answer these questions."
   ]
  },
  {
   "cell_type": "markdown",
   "metadata": {},
   "source": [
    "**A2:** When the dataset size is low, the splititng criterion doesn't perform well as there is low test accuracy. It improves as N is increased as it increases the dataset for both testing and training, which allows a more comprehensive learning."
   ]
  },
  {
   "cell_type": "markdown",
   "metadata": {},
   "source": [
    "We can also generate similar curves by changing the maximum depth hyperparameter:"
   ]
  },
  {
   "cell_type": "code",
   "execution_count": 13,
   "metadata": {},
   "outputs": [
    {
     "name": "stdout",
     "output_type": "stream",
     "text": [
      "Training classifier with maxDepth=1...\n",
      "Training accuracy 0.504167, test accuracy 0.5025\n",
      "Training classifier with maxDepth=2...\n",
      "Training accuracy 0.504167, test accuracy 0.5025\n",
      "Training classifier with maxDepth=4...\n",
      "Training accuracy 0.504167, test accuracy 0.5025\n",
      "Training classifier with maxDepth=6...\n",
      "Training accuracy 0.504167, test accuracy 0.5025\n",
      "Training classifier with maxDepth=8...\n",
      "Training accuracy 0.504167, test accuracy 0.5025\n",
      "Training classifier with maxDepth=12...\n",
      "Training accuracy 0.504167, test accuracy 0.5025\n",
      "Training classifier with maxDepth=16...\n",
      "Training accuracy 0.504167, test accuracy 0.5025\n",
      "Training classifier with maxDepth=1...\n",
      "Training accuracy 0.630833, test accuracy 0.595\n",
      "Training classifier with maxDepth=2...\n",
      "Training accuracy 0.6675, test accuracy 0.5825\n",
      "Training classifier with maxDepth=4...\n",
      "Training accuracy 0.7325, test accuracy 0.6375\n",
      "Training classifier with maxDepth=6...\n",
      "Training accuracy 0.789167, test accuracy 0.635\n",
      "Training classifier with maxDepth=8...\n",
      "Training accuracy 0.823333, test accuracy 0.6475\n",
      "Training classifier with maxDepth=12...\n",
      "Training accuracy 0.863333, test accuracy 0.6425\n",
      "Training classifier with maxDepth=16...\n",
      "Training accuracy 0.888333, test accuracy 0.625\n"
     ]
    },
    {
     "data": {
      "image/png": "[encoded data removed]",
      "text/plain": [
       "<Figure size 432x288 with 1 Axes>"
      ]
     },
     "metadata": {},
     "output_type": "display_data"
    }
   ],
   "source": [
    "curveIG = runClassifier.hyperparamCurveSet(dt.DT({'criterion': 'ig'}), 'maxDepth', [1,2,4,6,8,12,16], datasets.SentimentData)\n",
    "curveMR = runClassifier.hyperparamCurveSet(dt.DT({'criterion': 'mr'}), 'maxDepth', [1,2,4,6,8,12,16], datasets.SentimentData)\n",
    "runClassifier.plotCurvePair('DT on Sentiment Data (hyperparameter)', curveIG, 'IG', curveMR, 'MR')"
   ]
  },
  {
   "cell_type": "markdown",
   "metadata": {},
   "source": [
    "Now, the x-axis is the value of the maximum depth."
   ]
  },
  {
   "cell_type": "markdown",
   "metadata": {},
   "source": [
    "**Q3:** Briefly compare the two **training** curves. Does either splitting criterion perform better than the other for shallow depth (say, ``maxDepth``<10)? Why or why not? How about as ``maxDepth`` increases to 16? Use your understanding of both criteria to answer these questions."
   ]
  },
  {
   "cell_type": "markdown",
   "metadata": {},
   "source": [
    "**A3:** For training curves, the accuracy increases as there is more depth for the data to be fit in which allows for better training accuracy. Data can be better fitted when there is more space but while testing it gives the same result."
   ]
  },
  {
   "cell_type": "markdown",
   "metadata": {},
   "source": [
    "**Q4:** Briefly compare the two **test** curves. Does either splitting criterion lead to better generalization than the other for shallow depth (say, ``maxDepth``<10)? Why or why not? How about as ``maxDepth`` increases to 16? Use your understanding of both criteria to answer these questions."
   ]
  },
  {
   "cell_type": "markdown",
   "metadata": {},
   "source": [
    "**A4:** The test curve depict that the accuracy is slightly higher when maxDepth <10. This is due to the fact that the model has similar end points. "
   ]
  },
  {
   "cell_type": "markdown",
   "metadata": {},
   "source": [
    "Now we will display a tree trained using information gain. Beside each branch, we print out the information gain corresponding to the split."
   ]
  },
  {
   "cell_type": "code",
   "execution_count": 14,
   "metadata": {},
   "outputs": [
    {
     "data": {
      "text/plain": [
       "Branch 983 [Gain='1.9999']\n",
       "  Branch 8151 [Gain='1.9999']\n",
       "    Branch 8114 [Gain='1.9999']\n",
       "      Branch 7946 [Gain='1.9999']\n",
       "        Branch 7448 [Gain='1.9999']\n",
       "          Leaf 1.0\n",
       "          Leaf 1.0\n",
       "        Leaf 1.0\n",
       "      Leaf 1.0\n",
       "    Leaf 1.0\n",
       "  Branch 8160 [Gain='1.9999']\n",
       "    Branch 8159 [Gain='1.9999']\n",
       "      Branch 8158 [Gain='1.9999']\n",
       "        Branch 8152 [Gain='1.9999']\n",
       "          Leaf 1.0\n",
       "          Leaf 1.0\n",
       "        Leaf 1.0\n",
       "      Leaf 1.0\n",
       "    Leaf 1.0"
      ]
     },
     "execution_count": 14,
     "metadata": {},
     "output_type": "execute_result"
    }
   ],
   "source": [
    "h = dt.DT({'maxDepth': 5, 'criterion': 'ig'})\n",
    "h.train(datasets.SentimentData.X, datasets.SentimentData.Y)\n",
    "h"
   ]
  },
  {
   "cell_type": "markdown",
   "metadata": {},
   "source": [
    "Let's print some of the features, so we can see which words this tree uses to make decisions. I've looked up word indexed at ``626``, but you can go ahead and edit as needed."
   ]
  },
  {
   "cell_type": "code",
   "execution_count": 15,
   "metadata": {},
   "outputs": [
    {
     "name": "stdout",
     "output_type": "stream",
     "text": [
      "626 bad\n"
     ]
    }
   ],
   "source": [
    "print(626, datasets.SentimentData.words[626])"
   ]
  },
  {
   "cell_type": "markdown",
   "metadata": {},
   "source": [
    "**Q5:** Look up some words used in the tree. Find a few representative words that seem _helpful_ (contributing to higher accuracy) in this classification task, and a few representative words that seem _unhelpful_. Do you notice a correlation between information gain and the quality of the word in this task? Why or why not?"
   ]
  },
  {
   "cell_type": "markdown",
   "metadata": {},
   "source": [
    "**A5:** Yes, there is a correlation between information gain and quality of the word in the task. The information gain will be higher for words which help in classification because there is actual information gained with correlation to that word than some other word. "
   ]
  },
  {
   "cell_type": "markdown",
   "metadata": {},
   "source": [
    "**Q6:** Should we expect a significant change in test accuracy if we prune subtrees rooted at nodes corresponding to low information gain? Why or why not?"
   ]
  },
  {
   "cell_type": "markdown",
   "metadata": {},
   "source": [
    "**A6:** There won't be much significant change in test accuracy if we prune subtrees at low information gain as long as their info gain >= 0. The won't affect the computation but negative info gain can cause results which are far from the truth."
   ]
  },
  {
   "cell_type": "code",
   "execution_count": null,
   "metadata": {},
   "outputs": [],
   "source": []
  }
 ],
 "metadata": {
  "kernelspec": {
   "display_name": "Python 3",
   "language": "python",
   "name": "python3"
  },
  "language_info": {
   "codemirror_mode": {
    "name": "ipython",
    "version": 3
   },
   "file_extension": ".py",
   "mimetype": "text/x-python",
   "name": "python",
   "nbconvert_exporter": "python",
   "pygments_lexer": "ipython3",
   "version": "3.6.4"
  }
 },
 "nbformat": 4,
 "nbformat_minor": 2
}
